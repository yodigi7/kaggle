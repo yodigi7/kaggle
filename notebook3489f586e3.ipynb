{
 "cells": [
  {
   "cell_type": "code",
   "execution_count": 1,
   "id": "d7620950",
   "metadata": {
    "_cell_guid": "b1076dfc-b9ad-4769-8c92-a6c4dae69d19",
    "_uuid": "8f2839f25d086af736a60e9eeb907d3b93b6e0e5",
    "execution": {
     "iopub.execute_input": "2023-10-05T19:42:36.727102Z",
     "iopub.status.busy": "2023-10-05T19:42:36.726575Z",
     "iopub.status.idle": "2023-10-05T19:42:37.188619Z",
     "shell.execute_reply": "2023-10-05T19:42:37.186992Z"
    },
    "papermill": {
     "duration": 0.471278,
     "end_time": "2023-10-05T19:42:37.191708",
     "exception": false,
     "start_time": "2023-10-05T19:42:36.720430",
     "status": "completed"
    },
    "tags": []
   },
   "outputs": [
    {
     "name": "stdout",
     "output_type": "stream",
     "text": [
      "/kaggle/input/credit-card-dataset/revenue_target.xlsx\n",
      "/kaggle/input/credit-card-dataset/revenue_target.csv\n",
      "/kaggle/input/credit-card-dataset/credit_2018_2019.xlsx\n",
      "/kaggle/input/credit-card-dataset/cost.xlsx\n"
     ]
    }
   ],
   "source": [
    "# This Python 3 environment comes with many helpful analytics libraries installed\n",
    "# It is defined by the kaggle/python Docker image: https://github.com/kaggle/docker-python\n",
    "# For example, here's several helpful packages to load\n",
    "\n",
    "import numpy as np # linear algebra\n",
    "import pandas as pd # data processing, CSV file I/O (e.g. pd.read_csv)\n",
    "\n",
    "# Input data files are available in the read-only \"../input/\" directory\n",
    "# For example, running this (by clicking run or pressing Shift+Enter) will list all files under the input directory\n",
    "\n",
    "import os\n",
    "for dirname, _, filenames in os.walk('/kaggle/input'):\n",
    "    for filename in filenames:\n",
    "        print(os.path.join(dirname, filename))\n",
    "\n",
    "# You can write up to 20GB to the current directory (/kaggle/working/) that gets preserved as output when you create a version using \"Save & Run All\" \n",
    "# You can also write temporary files to /kaggle/temp/, but they won't be saved outside of the current session"
   ]
  },
  {
   "cell_type": "code",
   "execution_count": 2,
   "id": "62ad5951",
   "metadata": {
    "execution": {
     "iopub.execute_input": "2023-10-05T19:42:37.201746Z",
     "iopub.status.busy": "2023-10-05T19:42:37.201136Z",
     "iopub.status.idle": "2023-10-05T19:42:37.207235Z",
     "shell.execute_reply": "2023-10-05T19:42:37.205944Z"
    },
    "papermill": {
     "duration": 0.01268,
     "end_time": "2023-10-05T19:42:37.209502",
     "exception": false,
     "start_time": "2023-10-05T19:42:37.196822",
     "status": "completed"
    },
    "tags": []
   },
   "outputs": [],
   "source": [
    "import pandas as pd"
   ]
  },
  {
   "cell_type": "code",
   "execution_count": 3,
   "id": "f541135f",
   "metadata": {
    "execution": {
     "iopub.execute_input": "2023-10-05T19:42:37.217589Z",
     "iopub.status.busy": "2023-10-05T19:42:37.217150Z",
     "iopub.status.idle": "2023-10-05T19:43:16.195478Z",
     "shell.execute_reply": "2023-10-05T19:43:16.194144Z"
    },
    "papermill": {
     "duration": 38.985504,
     "end_time": "2023-10-05T19:43:16.198003",
     "exception": false,
     "start_time": "2023-10-05T19:42:37.212499",
     "status": "completed"
    },
    "tags": []
   },
   "outputs": [],
   "source": [
    "revenue_target_csv = pd.read_csv(\"/kaggle/input/credit-card-dataset/revenue_target.csv\")\n",
    "credit_xlsx = pd.ExcelFile('/kaggle/input/credit-card-dataset/credit_2018_2019.xlsx')\n",
    "finance_csv = pd.read_excel(credit_xlsx, \"Finance_all\")\n",
    "info_csv = pd.read_excel(credit_xlsx, \"info_all\")\n",
    "cost_csv = pd.read_excel('/kaggle/input/credit-card-dataset/cost.xlsx')"
   ]
  },
  {
   "cell_type": "code",
   "execution_count": 4,
   "id": "87fd381f",
   "metadata": {
    "execution": {
     "iopub.execute_input": "2023-10-05T19:43:16.206318Z",
     "iopub.status.busy": "2023-10-05T19:43:16.205659Z",
     "iopub.status.idle": "2023-10-05T19:43:16.231712Z",
     "shell.execute_reply": "2023-10-05T19:43:16.230235Z"
    },
    "papermill": {
     "duration": 0.03296,
     "end_time": "2023-10-05T19:43:16.234142",
     "exception": false,
     "start_time": "2023-10-05T19:43:16.201182",
     "status": "completed"
    },
    "tags": []
   },
   "outputs": [
    {
     "name": "stdout",
     "output_type": "stream",
     "text": [
      "        CLIENTNUM     Attrition_Flag  Year Quarter     Date  Type  \\\n",
      "0       708082083  Existing Customer  2018      Q1  Q1,2018  Shop   \n",
      "1       708083283  Attrited Customer  2018      Q1  Q1,2018  Shop   \n",
      "2       708084558  Attrited Customer  2018      Q1  Q1,2018  Shop   \n",
      "3       708085458  Existing Customer  2018      Q1  Q1,2018  Shop   \n",
      "4       708086958  Existing Customer  2018      Q1  Q1,2018  Shop   \n",
      "...           ...                ...   ...     ...      ...   ...   \n",
      "306871  721164483  Existing Customer  2019      Q4  Q4,2019  Cash   \n",
      "306872  708095133  Existing Customer  2019      Q4  Q4,2019  Cash   \n",
      "306873  900202780  Existing Customer  2019      Q4  Q4,2019  Cash   \n",
      "306874  779770683  Existing Customer  2019      Q4  Q4,2019  Cash   \n",
      "306875  709632483  Existing Customer  2019      Q4  Q4,2019  Cash   \n",
      "\n",
      "        Trans_Amount   Revenue  \n",
      "0           120.1200   2.40240  \n",
      "1           135.5550   2.71110  \n",
      "2           396.2700   7.92540  \n",
      "3           122.9550   2.45910  \n",
      "4           134.6400   2.69280  \n",
      "...              ...       ...  \n",
      "306871       56.5440   2.82720  \n",
      "306872      238.9592  11.94796  \n",
      "306873       13.6496   0.68248  \n",
      "306874       60.1008   3.00504  \n",
      "306875        2.0672   0.10336  \n",
      "\n",
      "[306876 rows x 8 columns]\n"
     ]
    }
   ],
   "source": [
    "print(finance_csv)"
   ]
  },
  {
   "cell_type": "markdown",
   "id": "1abae0ca",
   "metadata": {
    "papermill": {
     "duration": 0.002716,
     "end_time": "2023-10-05T19:43:16.240156",
     "exception": false,
     "start_time": "2023-10-05T19:43:16.237440",
     "status": "completed"
    },
    "tags": []
   },
   "source": [
    "# Group data by year and quarter"
   ]
  },
  {
   "cell_type": "code",
   "execution_count": 5,
   "id": "527ca666",
   "metadata": {
    "execution": {
     "iopub.execute_input": "2023-10-05T19:43:16.247570Z",
     "iopub.status.busy": "2023-10-05T19:43:16.247219Z",
     "iopub.status.idle": "2023-10-05T19:43:16.253354Z",
     "shell.execute_reply": "2023-10-05T19:43:16.251984Z"
    },
    "papermill": {
     "duration": 0.012478,
     "end_time": "2023-10-05T19:43:16.255476",
     "exception": false,
     "start_time": "2023-10-05T19:43:16.242998",
     "status": "completed"
    },
    "tags": []
   },
   "outputs": [],
   "source": [
    "year_quarter_group = revenue_target_csv.groupby([\"Year\", \"quarter\"])"
   ]
  },
  {
   "cell_type": "markdown",
   "id": "df7c4b8e",
   "metadata": {
    "papermill": {
     "duration": 0.002747,
     "end_time": "2023-10-05T19:43:16.261371",
     "exception": false,
     "start_time": "2023-10-05T19:43:16.258624",
     "status": "completed"
    },
    "tags": []
   },
   "source": [
    "# Target Revenue by year and quarter"
   ]
  },
  {
   "cell_type": "code",
   "execution_count": 6,
   "id": "4b5656b9",
   "metadata": {
    "execution": {
     "iopub.execute_input": "2023-10-05T19:43:16.269001Z",
     "iopub.status.busy": "2023-10-05T19:43:16.268536Z",
     "iopub.status.idle": "2023-10-05T19:43:16.317841Z",
     "shell.execute_reply": "2023-10-05T19:43:16.316654Z"
    },
    "papermill": {
     "duration": 0.056309,
     "end_time": "2023-10-05T19:43:16.320542",
     "exception": false,
     "start_time": "2023-10-05T19:43:16.264233",
     "status": "completed"
    },
    "tags": []
   },
   "outputs": [
    {
     "name": "stdout",
     "output_type": "stream",
     "text": [
      "             Target Revenue\n",
      "                        sum\n",
      "Year quarter               \n",
      "2018 Q1       706658.560875\n",
      "     Q2       308857.125385\n",
      "     Q3       307651.000750\n",
      "     Q4       899100.268875\n",
      "2019 Q1       465822.186468\n",
      "     Q2       277417.456255\n",
      "     Q3       222554.549345\n",
      "     Q4       593694.381885\n"
     ]
    }
   ],
   "source": [
    "print(year_quarter_group.agg({'Target Revenue': ['sum']}))"
   ]
  },
  {
   "cell_type": "code",
   "execution_count": 7,
   "id": "e8376c8e",
   "metadata": {
    "execution": {
     "iopub.execute_input": "2023-10-05T19:43:16.328829Z",
     "iopub.status.busy": "2023-10-05T19:43:16.328468Z",
     "iopub.status.idle": "2023-10-05T19:43:19.962154Z",
     "shell.execute_reply": "2023-10-05T19:43:19.961166Z"
    },
    "papermill": {
     "duration": 3.64078,
     "end_time": "2023-10-05T19:43:19.964701",
     "exception": false,
     "start_time": "2023-10-05T19:43:16.323921",
     "status": "completed"
    },
    "tags": []
   },
   "outputs": [],
   "source": [
    "target_revenue_by_quarter = year_quarter_group.agg('sum')"
   ]
  },
  {
   "cell_type": "code",
   "execution_count": 8,
   "id": "6c0fb37d",
   "metadata": {
    "execution": {
     "iopub.execute_input": "2023-10-05T19:43:19.973636Z",
     "iopub.status.busy": "2023-10-05T19:43:19.973283Z",
     "iopub.status.idle": "2023-10-05T19:43:20.335287Z",
     "shell.execute_reply": "2023-10-05T19:43:20.334129Z"
    },
    "papermill": {
     "duration": 0.368969,
     "end_time": "2023-10-05T19:43:20.337614",
     "exception": false,
     "start_time": "2023-10-05T19:43:19.968645",
     "status": "completed"
    },
    "tags": []
   },
   "outputs": [
    {
     "name": "stdout",
     "output_type": "stream",
     "text": [
      "<class 'pandas.core.frame.DataFrame'>\n"
     ]
    },
    {
     "data": {
      "text/plain": [
       "<Axes: xlabel='Year,quarter'>"
      ]
     },
     "execution_count": 8,
     "metadata": {},
     "output_type": "execute_result"
    },
    {
     "data": {
      "image/png": "[encoded data removed]",
      "text/plain": [
       "<Figure size 640x480 with 1 Axes>"
      ]
     },
     "metadata": {},
     "output_type": "display_data"
    }
   ],
   "source": [
    "print(type(target_revenue_by_quarter))\n",
    "target_revenue_by_quarter.plot(y='Target Revenue')"
   ]
  },
  {
   "cell_type": "code",
   "execution_count": null,
   "id": "9304ada3",
   "metadata": {
    "papermill": {
     "duration": 0.003701,
     "end_time": "2023-10-05T19:43:20.345460",
     "exception": false,
     "start_time": "2023-10-05T19:43:20.341759",
     "status": "completed"
    },
    "tags": []
   },
   "outputs": [],
   "source": []
  }
 ],
 "metadata": {
  "kernelspec": {
   "display_name": "Python 3",
   "language": "python",
   "name": "python3"
  },
  "language_info": {
   "codemirror_mode": {
    "name": "ipython",
    "version": 3
   },
   "file_extension": ".py",
   "mimetype": "text/x-python",
   "name": "python",
   "nbconvert_exporter": "python",
   "pygments_lexer": "ipython3",
   "version": "3.10.12"
  },
  "papermill": {
   "default_parameters": {},
   "duration": 47.83408,
   "end_time": "2023-10-05T19:43:20.981834",
   "environment_variables": {},
   "exception": null,
   "input_path": "__notebook__.ipynb",
   "output_path": "__notebook__.ipynb",
   "parameters": {},
   "start_time": "2023-10-05T19:42:33.147754",
   "version": "2.4.0"
  }
 },
 "nbformat": 4,
 "nbformat_minor": 5
}
